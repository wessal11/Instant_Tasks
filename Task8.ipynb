{
 "cells": [
  {
   "cell_type": "code",
   "execution_count": 1,
   "metadata": {},
   "outputs": [],
   "source": [
    "file_data=open(\"data.txt\",'w')\n",
    "\n",
    "txt=\"\"\"Ahmed Hafez\\t01267468335\\tAhmed@gmail.com\n",
    "Ali osama\\tali@gmail.com\\t01549865465\n",
    "wessal@gmail.com\\t01148645468\\tWessal salah\n",
    "01244369871\\tsama@gmail.com\\tSama ali\"\"\"\n",
    "\n",
    "file_data.write(txt)\n",
    "file_data.close()"
   ]
  },
  {
   "cell_type": "code",
   "execution_count": 17,
   "metadata": {},
   "outputs": [],
   "source": [
    "import re\n",
    "names=[]\n",
    "numbers=[]\n",
    "emails=[]\n",
    "\n",
    "file_data=open(\"data.txt\",'r')\n",
    "lines= file_data.readlines()\n",
    "for line in lines:\n",
    "  match = re.search(r'[a-zA-Z0-9-.]+@[a-zA-Z-]+\\.\\w+', line)\n",
    "  emails.append(match.group())\n",
    "  match= re.search('\\d+',line)\n",
    "  numbers.append(match.group())\n",
    "  match= re.search('\\w+[ ]\\w+',line)\n",
    "  names.append(match.group())\n",
    "file_data.close()\n"
   ]
  },
  {
   "cell_type": "code",
   "execution_count": 18,
   "metadata": {},
   "outputs": [
    {
     "name": "stdout",
     "output_type": "stream",
     "text": [
      "['Ahmed@gmail.com', 'ali@gmail.com', 'wessal@gmail.com', 'sama@gmail.com']\n",
      "['01267468335', '01549865465', '01148645468', '01244369871']\n",
      "['Ahmed Hafez', 'Ali osama', 'Wessal salah', 'Sama ali']\n"
     ]
    }
   ],
   "source": [
    "print(f\"{emails}\\n{numbers}\\n{names}\")"
   ]
  }
 ],
 "metadata": {
  "kernelspec": {
   "display_name": "Python 3",
   "language": "python",
   "name": "python3"
  },
  "language_info": {
   "codemirror_mode": {
    "name": "ipython",
    "version": 3
   },
   "file_extension": ".py",
   "mimetype": "text/x-python",
   "name": "python",
   "nbconvert_exporter": "python",
   "pygments_lexer": "ipython3",
   "version": "3.10.2"
  },
  "orig_nbformat": 4
 },
 "nbformat": 4,
 "nbformat_minor": 2
}
