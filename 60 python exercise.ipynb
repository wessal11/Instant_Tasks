{
 "cells": [
  {
   "cell_type": "markdown",
   "id": "759d04ba",
   "metadata": {},
   "source": [
    "**1-Write a Python program to calculate the length of a string using 2 ways"
   ]
  },
  {
   "cell_type": "code",
   "execution_count": 63,
   "id": "e434c950",
   "metadata": {},
   "outputs": [
    {
     "name": "stdout",
     "output_type": "stream",
     "text": [
      "8\n"
     ]
    }
   ],
   "source": [
    "s=\"Training\"\n",
    "print(len(s))"
   ]
  },
  {
   "cell_type": "code",
   "execution_count": 64,
   "id": "7a2dfa32",
   "metadata": {},
   "outputs": [
    {
     "name": "stdout",
     "output_type": "stream",
     "text": [
      "8\n"
     ]
    }
   ],
   "source": [
    "count=0\n",
    "for i in range(len(s)):\n",
    "    count+=1\n",
    "print(count)    "
   ]
  },
  {
   "cell_type": "markdown",
   "id": "d7cc9da7",
   "metadata": {},
   "source": [
    "**2-Write a Python program to get a string made of the first 2 and last 2 characters of a given string. If the string length is less than 2, return the empty string instead (\"##Sample String : 'w3resource'\n",
    "Expected Result : 'w3ce'\n",
    "##Sample String : 'w3'\n",
    "Expected Result : 'w3w3'\n",
    "##Sample String : ' w'\n",
    "Expected Result : Empty String)"
   ]
  },
  {
   "cell_type": "code",
   "execution_count": 65,
   "id": "dafa9dd8",
   "metadata": {},
   "outputs": [
    {
     "name": "stdout",
     "output_type": "stream",
     "text": [
      "w3ce\n"
     ]
    }
   ],
   "source": [
    "instr=input(\"Enter any string: \")\n",
    "def printstr(instr):\n",
    "   result=\"\"\n",
    "   if len(instr) >2:\n",
    "      result=instr[:2]+instr[-2:]\n",
    "      print(result)\n",
    "   elif len(instr)==2:\n",
    "      result=instr*2\n",
    "      print(result)\n",
    "   else:\n",
    "      print(result)   \n",
    "    \n",
    "printstr(instr)   "
   ]
  },
  {
   "cell_type": "markdown",
   "id": "1534f956",
   "metadata": {},
   "source": [
    "**3-Write a Python program to add 'ing' at the end of a given string (length should be at least 3). If the given string already ends with 'ing', add 'ly' instead. If the string length of the given string is less than 3, leave it unchanged. (Sample String : 'abc'\n",
    "Expected Result : 'abcing')"
   ]
  },
  {
   "cell_type": "code",
   "execution_count": 66,
   "id": "7ff8cec4",
   "metadata": {},
   "outputs": [
    {
     "name": "stdout",
     "output_type": "stream",
     "text": [
      "eating\n"
     ]
    }
   ],
   "source": [
    "ins=input(\"Enter your string: \")\n",
    "def strUpdate(ins):\n",
    "    if len(ins)>=3 and ins[-3:]!=\"ing\":\n",
    "        ins+=\"ing\"\n",
    "        print(ins)\n",
    "    elif ins[-3:]==\"ing\":\n",
    "        ins+=\"ly\"\n",
    "        print(ins)\n",
    "    else:\n",
    "        print(ins)\n",
    "\n",
    "strUpdate(ins)"
   ]
  },
  {
   "cell_type": "markdown",
   "id": "1c0a6627",
   "metadata": {},
   "source": [
    "**4-Write a Python function that takes a list of words and return the longest word and the length of the longest one\n",
    "(Longest word: Exercises\n",
    "Length of the longest word: 9)"
   ]
  },
  {
   "cell_type": "code",
   "execution_count": 67,
   "id": "397341d9",
   "metadata": {},
   "outputs": [
    {
     "name": "stdout",
     "output_type": "stream",
     "text": [
      "Longest word: exercises length of the longest word: 9\n"
     ]
    }
   ],
   "source": [
    "l=[\"exercises\",\"eat\",\"practice\",\"drink\"]\n",
    "def longest(l):\n",
    "    max=0\n",
    "    result=\"\"\n",
    "    for i in l:\n",
    "        if max< len(i):\n",
    "            max=len(i)\n",
    "            result=i\n",
    "    print(\"Longest word:\",result,\"length of the longest word:\",max)        \n",
    "longest(l)"
   ]
  },
  {
   "cell_type": "code",
   "execution_count": 69,
   "id": "360e0195",
   "metadata": {},
   "outputs": [
    {
     "name": "stdout",
     "output_type": "stream",
     "text": [
      "Longest word: exercises length of the longest word: 9\n"
     ]
    }
   ],
   "source": [
    "Longest_word = max(l,key=len)\n",
    "print(\"Longest word:\",Longest_word,\"length of the longest word:\",len(Longest_word))"
   ]
  },
  {
   "cell_type": "markdown",
   "id": "53a03a6a",
   "metadata": {},
   "source": [
    "**5-Write a Python program to change a given string to a newly string where the first and last chars have been exchanged using 2 ways (Sample String:abca  Expected Result:ebce)"
   ]
  },
  {
   "cell_type": "code",
   "execution_count": 70,
   "id": "fd327d2a",
   "metadata": {},
   "outputs": [
    {
     "name": "stdout",
     "output_type": "stream",
     "text": [
      "bbcdb\n"
     ]
    }
   ],
   "source": [
    "st=input(\"enter a string: \")\n",
    "newch=chr(ord(st[0])+1)\n",
    "print(newch+ st[1:-1]+ newch )"
   ]
  },
  {
   "cell_type": "code",
   "execution_count": 71,
   "id": "285788b4",
   "metadata": {},
   "outputs": [
    {
     "name": "stdout",
     "output_type": "stream",
     "text": [
      "mbcdm\n"
     ]
    }
   ],
   "source": [
    "import random, string\n",
    "rand = random.choice(string.ascii_letters)\n",
    "print(rand+ st[1:-1]+ rand )"
   ]
  },
  {
   "cell_type": "code",
   "execution_count": 72,
   "id": "6521fc1b",
   "metadata": {},
   "outputs": [
    {
     "name": "stdout",
     "output_type": "stream",
     "text": [
      "dbcdb\n"
     ]
    }
   ],
   "source": [
    "print(st[-2]+st[1:-1]+st[1])"
   ]
  },
  {
   "cell_type": "markdown",
   "id": "25f89808",
   "metadata": {},
   "source": [
    "**6-Write a Python program to remove characters that have odd index values in a given string (Sample String:abca Expected Result:ac)"
   ]
  },
  {
   "cell_type": "code",
   "execution_count": 73,
   "id": "05959bd7",
   "metadata": {},
   "outputs": [
    {
     "name": "stdout",
     "output_type": "stream",
     "text": [
      "wsa\n"
     ]
    }
   ],
   "source": [
    "s=\"wessal\"\n",
    "result=\"\"\n",
    "for i in range(0,len(s),2):\n",
    "    result+=s[i]\n",
    "print(result)    "
   ]
  },
  {
   "cell_type": "markdown",
   "id": "eb16e898",
   "metadata": {},
   "source": [
    "**7-Write a Python program to count the occurrences of each word in a given sentence (Sample String:amr and ahmed are frindes but amr is the tallest Expected Result:2)"
   ]
  },
  {
   "cell_type": "code",
   "execution_count": 75,
   "id": "01ce6cf5",
   "metadata": {},
   "outputs": [
    {
     "name": "stdout",
     "output_type": "stream",
     "text": [
      "{'amr': 2, 'and': 1, 'ahmed': 1, 'are': 1, 'frindes': 1, 'but': 1, 'is': 1, 'the': 1, 'tallest': 1}\n"
     ]
    }
   ],
   "source": [
    "s=\"amr and ahmed are frindes but amr is the tallest\"\n",
    "def countword(s):\n",
    "    words=s.split()\n",
    "    count=dict()\n",
    "    for word in words:\n",
    "        if word in count:\n",
    "          count[word]+=1\n",
    "        else:\n",
    "           count[word]=1 \n",
    "    #print(max(count.values()))         \n",
    "    return count\n",
    "print(countword(s))\n",
    "  "
   ]
  },
  {
   "cell_type": "markdown",
   "id": "4e8125f1",
   "metadata": {},
   "source": [
    "**8-Write a Python script that takes input from the user and displays that input back in upper and lower cases"
   ]
  },
  {
   "cell_type": "code",
   "execution_count": 76,
   "id": "087ac582",
   "metadata": {},
   "outputs": [
    {
     "name": "stdout",
     "output_type": "stream",
     "text": [
      "HELLO! I AM PRACTICING CODING IN PYTHON.\n",
      "hello! i am practicing coding in python.\n"
     ]
    }
   ],
   "source": [
    "s=input()\n",
    "print(s.upper())\n",
    "print(s.lower())"
   ]
  },
  {
   "cell_type": "markdown",
   "id": "fcd68aa1",
   "metadata": {},
   "source": [
    "**9-Write a Python function to reverse a string if its length is a multiple of 4"
   ]
  },
  {
   "cell_type": "code",
   "execution_count": 77,
   "id": "ff1afb11",
   "metadata": {},
   "outputs": [
    {
     "name": "stdout",
     "output_type": "stream",
     "text": [
      "halas lasseW\n",
      "halas lasseW\n"
     ]
    }
   ],
   "source": [
    "s=\"Wessal salah\"\n",
    "if(len(s)%4==0):\n",
    "  print(\"\".join(reversed(s)))\n",
    "  print(s[::-1])"
   ]
  },
  {
   "cell_type": "markdown",
   "id": "b577c68d",
   "metadata": {},
   "source": [
    "**10- Write a Python program to remove a newline in Python"
   ]
  },
  {
   "cell_type": "code",
   "execution_count": 78,
   "id": "e0c6525a",
   "metadata": {},
   "outputs": [
    {
     "name": "stdout",
     "output_type": "stream",
     "text": [
      "Good evening! How's your day going? Well done!\n"
     ]
    }
   ],
   "source": [
    "strng=\"\"\"Good evening!\n",
    "How's your day going?\n",
    "Well done!\"\"\"\n",
    "print(strng.replace(\"\\n\",\" \"))"
   ]
  },
  {
   "cell_type": "markdown",
   "id": "80db5ae0",
   "metadata": {},
   "source": [
    "**11-Write a Python program to check whether a string starts with specified characters"
   ]
  },
  {
   "cell_type": "code",
   "execution_count": 79,
   "id": "0cc4e03e",
   "metadata": {},
   "outputs": [
    {
     "name": "stdout",
     "output_type": "stream",
     "text": [
      "The word doesn't start with (we)\n"
     ]
    }
   ],
   "source": [
    "st=\"we\"\n",
    "s=input()\n",
    "def check(s,st):\n",
    "  if s[:2]==st:\n",
    "    return True\n",
    "  else:\n",
    "    return False\n",
    "if check(s,st):\n",
    "  print (\"The word start with (we)\")\n",
    "else:\n",
    "  print (\"The word doesn\\'t start with (we)\")"
   ]
  },
  {
   "cell_type": "markdown",
   "id": "593a68db",
   "metadata": {},
   "source": [
    "**12- Write a Python program to add prefix text to all of the lines in a string"
   ]
  },
  {
   "cell_type": "code",
   "execution_count": 82,
   "id": "d2e46ada",
   "metadata": {},
   "outputs": [
    {
     "name": "stdout",
     "output_type": "stream",
     "text": [
      "> Good evening!\n",
      "> How's your day going?\n",
      "> Everything is good\n",
      "> Well done!\n"
     ]
    }
   ],
   "source": [
    "s=\"\"\"Good evening!\n",
    "How's your day going?\n",
    "Everything is good\n",
    "Well done!\"\"\"\n",
    "s=s.split(\"\\n\")\n",
    "result=\"\"\n",
    "for i in s:\n",
    "   result=\"> \"+i\n",
    "   print(result)"
   ]
  },
  {
   "cell_type": "markdown",
   "id": "86fa1543",
   "metadata": {},
   "source": [
    "**13-Write a Python program to print the following numbers up to 2 decimal places"
   ]
  },
  {
   "cell_type": "code",
   "execution_count": 83,
   "id": "cd4a9d89",
   "metadata": {},
   "outputs": [
    {
     "name": "stdout",
     "output_type": "stream",
     "text": [
      "23.68\n"
     ]
    }
   ],
   "source": [
    "x=23.6768922\n",
    "print(f\"{x:.2f}\")"
   ]
  },
  {
   "cell_type": "markdown",
   "id": "452c0ab0",
   "metadata": {},
   "source": [
    "**14-Write a Python program to print the following numbers up to 2 decimal places with a sign"
   ]
  },
  {
   "cell_type": "code",
   "execution_count": null,
   "id": "73e82479",
   "metadata": {},
   "outputs": [
    {
     "name": "stdout",
     "output_type": "stream",
     "text": [
      "-45.47\n"
     ]
    }
   ],
   "source": [
    "y=-45.4654464198756\n",
    "print(f\"{y:+.2f}\")"
   ]
  },
  {
   "cell_type": "markdown",
   "id": "32b1811a",
   "metadata": {},
   "source": [
    "**15-Write a Python program to display a number with a comma separator"
   ]
  },
  {
   "cell_type": "code",
   "execution_count": null,
   "id": "f30fc0b6",
   "metadata": {},
   "outputs": [
    {
     "name": "stdout",
     "output_type": "stream",
     "text": [
      "20,000,000\n"
     ]
    }
   ],
   "source": [
    "a=20000000\n",
    "print(f\"{a:,}\")"
   ]
  },
  {
   "cell_type": "markdown",
   "id": "0477f487",
   "metadata": {},
   "source": [
    "**16-Write a Python program to reverse a string using 2 ways"
   ]
  },
  {
   "cell_type": "code",
   "execution_count": null,
   "id": "aa8beec8",
   "metadata": {},
   "outputs": [
    {
     "name": "stdout",
     "output_type": "stream",
     "text": [
      "emoclew\n",
      "emoclew\n"
     ]
    }
   ],
   "source": [
    "sr=\"welcome\"\n",
    "print(\"\".join(reversed(sr)))\n",
    "print(sr[::-1])"
   ]
  },
  {
   "cell_type": "markdown",
   "id": "5afc3166",
   "metadata": {},
   "source": [
    " **17-Write a Python program to count repeated characters in a string (hint:use dictionary)"
   ]
  },
  {
   "cell_type": "code",
   "execution_count": 85,
   "id": "515a469c",
   "metadata": {},
   "outputs": [
    {
     "name": "stdout",
     "output_type": "stream",
     "text": [
      "{'o': 2, 'p': 2, 'r': 1, 't': 2, 'u': 1, 'n': 1, 'i': 1, 'y': 1}\n"
     ]
    }
   ],
   "source": [
    "word=\"opportunity\"\n",
    "count=dict()\n",
    "for i in word:\n",
    "    if i in count:\n",
    "        count[i]+=1\n",
    "    else:\n",
    "        count[i]=1   \n",
    "print(count)         "
   ]
  },
  {
   "cell_type": "code",
   "execution_count": 97,
   "metadata": {},
   "outputs": [
    {
     "data": {
      "text/plain": [
       "{'o': 2, 'p': 2, 'r': 1, 't': 2, 'u': 1, 'n': 1, 'i': 1, 'y': 1}"
      ]
     },
     "execution_count": 97,
     "metadata": {},
     "output_type": "execute_result"
    }
   ],
   "source": [
    "d=dict()\n",
    "for i in word:\n",
    "    d[i]=word.count(i)\n",
    "d    "
   ]
  },
  {
   "cell_type": "markdown",
   "id": "ae14e4e5",
   "metadata": {},
   "source": [
    "**18-Write a Python program to find the first non-repeating character in a given string"
   ]
  },
  {
   "cell_type": "code",
   "execution_count": 98,
   "id": "d73778e5",
   "metadata": {},
   "outputs": [
    {
     "name": "stdout",
     "output_type": "stream",
     "text": [
      "x\n"
     ]
    }
   ],
   "source": [
    "string=\"exercise\"\n",
    "for i in string:\n",
    "    if string.count(i)==1:\n",
    "        print(i)\n",
    "        break"
   ]
  },
  {
   "cell_type": "markdown",
   "id": "3adf5669",
   "metadata": {},
   "source": [
    "**19-Write a Python program to remove spaces from a given string"
   ]
  },
  {
   "cell_type": "code",
   "execution_count": 99,
   "id": "b4f22602",
   "metadata": {},
   "outputs": [
    {
     "name": "stdout",
     "output_type": "stream",
     "text": [
      "Helloeveryone!howwasyourday?\n"
     ]
    }
   ],
   "source": [
    "s=\"Hello everyone! how was your day?\"\n",
    "print(s.replace(\" \",\"\"))"
   ]
  },
  {
   "cell_type": "markdown",
   "id": "734de60c",
   "metadata": {},
   "source": [
    "**20-Write a Python program to count the number of non-empty substrings of a given string"
   ]
  },
  {
   "cell_type": "code",
   "execution_count": 101,
   "id": "ef3f2274",
   "metadata": {},
   "outputs": [
    {
     "name": "stdout",
     "output_type": "stream",
     "text": [
      "10.0\n"
     ]
    }
   ],
   "source": [
    "instr=input(\"Enter a string: \")  #play\n",
    "def numOfSubstring(instr):\n",
    "    return (len(instr)*(len(instr)+1)/2)\n",
    "\n",
    "print(numOfSubstring(instr))"
   ]
  },
  {
   "cell_type": "markdown",
   "id": "509998e2",
   "metadata": {},
   "source": [
    "**21-write a Python program to swap first and last element of any list."
   ]
  },
  {
   "cell_type": "code",
   "execution_count": 102,
   "id": "68692d7f",
   "metadata": {},
   "outputs": [
    {
     "data": {
      "text/plain": [
       "[6, 2, 3, 4, 5, 1]"
      ]
     },
     "execution_count": 102,
     "metadata": {},
     "output_type": "execute_result"
    }
   ],
   "source": [
    "l=[1,2,3,4,5,6]\n",
    "l[0],l[-1]=l[-1],l[0]\n",
    "l"
   ]
  },
  {
   "cell_type": "code",
   "execution_count": 103,
   "id": "a5b4ac04",
   "metadata": {},
   "outputs": [
    {
     "data": {
      "text/plain": [
       "[9, 6, 7, 8, 5]"
      ]
     },
     "execution_count": 103,
     "metadata": {},
     "output_type": "execute_result"
    }
   ],
   "source": [
    "lis=[5,6,7,8,9]\n",
    "x=lis.pop()\n",
    "lis.insert(x,lis[0])\n",
    "lis.pop(0)\n",
    "lis.insert(0,x)\n",
    "lis"
   ]
  },
  {
   "cell_type": "markdown",
   "id": "959e0837",
   "metadata": {},
   "source": [
    "**22-Given a list in Python and provided the positions of the elements, write a program to swap the two elements in the list. (Input : List = [23, 65, 19, 90], pos1 = 1, pos2 = 3\n",
    "Output : [19, 65, 23, 90])"
   ]
  },
  {
   "cell_type": "code",
   "execution_count": 104,
   "id": "225d8c6d",
   "metadata": {},
   "outputs": [
    {
     "data": {
      "text/plain": [
       "[19, 65, 23, 90, 50]"
      ]
     },
     "execution_count": 104,
     "metadata": {},
     "output_type": "execute_result"
    }
   ],
   "source": [
    "l=[23,65,19,90,50]\n",
    "p1=int(input(\"Enter position 1: \"))\n",
    "p2=int(input(\"Enter position 2: \"))\n",
    "l[p1-1],l[p2-1]=l[p2-1],l[p1-1]\n",
    "l"
   ]
  },
  {
   "cell_type": "markdown",
   "id": "66fc6682",
   "metadata": {},
   "source": [
    "**23- search for the all ways to know the length of the list"
   ]
  },
  {
   "cell_type": "code",
   "execution_count": 105,
   "id": "63ff8b43",
   "metadata": {},
   "outputs": [
    {
     "data": {
      "text/plain": [
       "5"
      ]
     },
     "execution_count": 105,
     "metadata": {},
     "output_type": "execute_result"
    }
   ],
   "source": [
    "len(l)"
   ]
  },
  {
   "cell_type": "code",
   "execution_count": 106,
   "id": "28dcd10f",
   "metadata": {},
   "outputs": [
    {
     "name": "stdout",
     "output_type": "stream",
     "text": [
      "5\n"
     ]
    }
   ],
   "source": [
    "count=0\n",
    "for i in l:\n",
    "    count+=1\n",
    "print(count)    "
   ]
  },
  {
   "cell_type": "code",
   "execution_count": 107,
   "id": "e0ebbea4",
   "metadata": {},
   "outputs": [
    {
     "data": {
      "text/plain": [
       "5"
      ]
     },
     "execution_count": 107,
     "metadata": {},
     "output_type": "execute_result"
    }
   ],
   "source": [
    "list_length = sum(1 for i in l)\n",
    "list_length"
   ]
  },
  {
   "cell_type": "code",
   "execution_count": 108,
   "id": "ab94ae3b",
   "metadata": {},
   "outputs": [
    {
     "data": {
      "text/plain": [
       "5"
      ]
     },
     "execution_count": 108,
     "metadata": {},
     "output_type": "execute_result"
    }
   ],
   "source": [
    "from collections import Counter\n",
    "list_len = sum(Counter(l).values())\n",
    "list_len"
   ]
  },
  {
   "cell_type": "code",
   "execution_count": 109,
   "id": "5d55832c",
   "metadata": {},
   "outputs": [
    {
     "name": "stdout",
     "output_type": "stream",
     "text": [
      "5\n"
     ]
    }
   ],
   "source": [
    "from operator import length_hint\n",
    "print(length_hint(l))"
   ]
  },
  {
   "cell_type": "markdown",
   "id": "dd892af3",
   "metadata": {},
   "source": [
    "**24-write a Python code to find the Maximum number of list of numbers."
   ]
  },
  {
   "cell_type": "code",
   "execution_count": 111,
   "id": "15f342de",
   "metadata": {},
   "outputs": [
    {
     "data": {
      "text/plain": [
       "90"
      ]
     },
     "execution_count": 111,
     "metadata": {},
     "output_type": "execute_result"
    }
   ],
   "source": [
    "l=[23,65,19,90,50]\n",
    "list_to_set=set(l)\n",
    "l=list(list_to_set)\n",
    "l[-1]\n"
   ]
  },
  {
   "cell_type": "code",
   "execution_count": 110,
   "id": "b0f09dbc",
   "metadata": {},
   "outputs": [
    {
     "name": "stdout",
     "output_type": "stream",
     "text": [
      "90\n",
      "90\n"
     ]
    }
   ],
   "source": [
    "l.sort()\n",
    "print(l[-1]) # way 2\n",
    "print(max(l)) # way 3"
   ]
  },
  {
   "cell_type": "markdown",
   "id": "1a89b9d3",
   "metadata": {},
   "source": [
    "**25-write a Python code to find the Minimum number of list of numbers."
   ]
  },
  {
   "cell_type": "code",
   "execution_count": 112,
   "id": "21f8cbd6",
   "metadata": {},
   "outputs": [
    {
     "name": "stdout",
     "output_type": "stream",
     "text": [
      "19\n",
      "19\n"
     ]
    }
   ],
   "source": [
    "l=[23,65,19,90,50]\n",
    "l.sort()\n",
    "print(l[0])\n",
    "print(min(l))"
   ]
  },
  {
   "cell_type": "markdown",
   "id": "96822d96",
   "metadata": {},
   "source": [
    "**26-search for if an elem is existing in list"
   ]
  },
  {
   "cell_type": "code",
   "execution_count": 113,
   "id": "51ca5c9a",
   "metadata": {},
   "outputs": [
    {
     "name": "stdout",
     "output_type": "stream",
     "text": [
      "The number is in the list\n"
     ]
    }
   ],
   "source": [
    "l=[20,89,5,1,56,9,4,3,7,6,100]\n",
    "num =int(input(\"Enter a number: \"))\n",
    "def search(num):\n",
    "    for i in l:\n",
    "        if i==num:\n",
    "            return True\n",
    "    return False\n",
    "if search(num):\n",
    "    print('The number is in the list')\n",
    "else:\n",
    "    print('The number isn\\'t in the list')               "
   ]
  },
  {
   "cell_type": "markdown",
   "id": "d9557da7",
   "metadata": {},
   "source": [
    "**27- clear python list using different ways"
   ]
  },
  {
   "cell_type": "code",
   "execution_count": 114,
   "id": "b69858a3",
   "metadata": {},
   "outputs": [
    {
     "name": "stdout",
     "output_type": "stream",
     "text": [
      "[]\n",
      "[]\n",
      "[]\n"
     ]
    }
   ],
   "source": [
    "list1=[2,5,6,7,8]\n",
    "list1.clear()\n",
    "print(list1)\n",
    "list2=[1,2,3,4]\n",
    "list2=[]\n",
    "print(list2)\n",
    "list3=[9,3,22]\n",
    "del list3[:]\n",
    "print(list3)"
   ]
  },
  {
   "cell_type": "code",
   "execution_count": 115,
   "id": "9a8247cb",
   "metadata": {},
   "outputs": [
    {
     "name": "stdout",
     "output_type": "stream",
     "text": [
      "[]\n"
     ]
    }
   ],
   "source": [
    "list4=[11,5,8,90]\n",
    "while(len(list4)!=0):\n",
    "    list4.pop()\n",
    "print(list4)    "
   ]
  },
  {
   "cell_type": "markdown",
   "id": "52160e88",
   "metadata": {},
   "source": [
    "**28-remove duplicated elements from a list"
   ]
  },
  {
   "cell_type": "code",
   "execution_count": 116,
   "id": "5e362228",
   "metadata": {},
   "outputs": [
    {
     "name": "stdout",
     "output_type": "stream",
     "text": [
      "[1, 3, 5, 6]\n"
     ]
    }
   ],
   "source": [
    "list5=[1,3,5,3,1,3,3,6,5]\n",
    "result=set(list5)\n",
    "result=list(result)\n",
    "print(result)"
   ]
  },
  {
   "cell_type": "markdown",
   "id": "282337f7",
   "metadata": {},
   "source": [
    "**29-Given list values and keys list, convert these values to key value pairs in form of list of dictionaries. (Input : test_list = [“Gfg”, 3, “is”, 8], key_list = [“name”, “id”]\n",
    "Output : [{‘name’: ‘Gfg’, ‘id’: 3}, {‘name’: ‘is’, ‘id’: 8}])"
   ]
  },
  {
   "cell_type": "code",
   "execution_count": 117,
   "id": "4d4e2d28",
   "metadata": {},
   "outputs": [
    {
     "name": "stdout",
     "output_type": "stream",
     "text": [
      "[{'name': 'Gfg', 'id': 3}, {'name': 'is', 'id': 8}]\n"
     ]
    }
   ],
   "source": [
    "keys=['name','id']\n",
    "values=['Gfg',3,'is',8]\n",
    "answer=[]\n",
    "for i in range(0,len(values),2): #I loop on len(values) because len(values)> len(keys)\n",
    "    answer.append({keys[i%len(keys)]:values[i],keys[i%len(keys) + 1]:values[i+1] })\n",
    "print(answer)    "
   ]
  },
  {
   "cell_type": "code",
   "execution_count": null,
   "id": "2caf2f1d",
   "metadata": {},
   "outputs": [],
   "source": [
    "\"\"\"for i in range(len(values)): \n",
    "    answer.append({keys[i%len(keys)]:values[i]})\"\"\""
   ]
  },
  {
   "cell_type": "markdown",
   "id": "c26b6e9f",
   "metadata": {},
   "source": [
    "**30-write a python program to count unique values inside a list using different ways"
   ]
  },
  {
   "cell_type": "code",
   "execution_count": 118,
   "id": "72132667",
   "metadata": {},
   "outputs": [
    {
     "data": {
      "text/plain": [
       "4"
      ]
     },
     "execution_count": 118,
     "metadata": {},
     "output_type": "execute_result"
    }
   ],
   "source": [
    "lis=[1,2,1,3,3,4,1]\n",
    "st=set(lis)\n",
    "lis=list(st)\n",
    "count=0\n",
    "for i in lis:\n",
    "    count+=1\n",
    "count    "
   ]
  },
  {
   "cell_type": "markdown",
   "id": "fed6677c",
   "metadata": {},
   "source": [
    "**31-write a python program Extract all elements with Frequency greater than K (Input : test_list = [4, 6, 4, 3, 3, 4, 3, 4, 3, 8], K = 3 \n",
    "Output : [4, 3] )"
   ]
  },
  {
   "cell_type": "code",
   "execution_count": 139,
   "id": "d81f3f9d",
   "metadata": {},
   "outputs": [
    {
     "name": "stdout",
     "output_type": "stream",
     "text": [
      "{1, 3, 5}\n"
     ]
    }
   ],
   "source": [
    "k=int(input())\n",
    "lis=[1,2,3,3,5,3,3,5,5,5,6,5,1,1,2,1]\n",
    "def freq(k):\n",
    "    lst=set()\n",
    "    for i in lis:\n",
    "        if lis.count(i)>k:\n",
    "            lst.add(i)\n",
    "    return lst   \n",
    "print(freq(k))    "
   ]
  },
  {
   "cell_type": "markdown",
   "id": "caca5224",
   "metadata": {},
   "source": [
    "**32-write a python program to find the Strongest Neighbour (Input: 1 2 2 3 4 5\n",
    "Output: 2 2 3 4 5)"
   ]
  },
  {
   "cell_type": "code",
   "execution_count": 121,
   "id": "39fbd9b2",
   "metadata": {},
   "outputs": [
    {
     "name": "stdout",
     "output_type": "stream",
     "text": [
      "[2, 2, 3, 4, 5]\n"
     ]
    }
   ],
   "source": [
    "N_list=[1,2,2,3,4,5]\n",
    "O_list=[]\n",
    "for i in range(len(N_list)-1):\n",
    "    m=max(N_list[i],N_list[i+1])\n",
    "    O_list.append(m)\n",
    "print(O_list)    "
   ]
  },
  {
   "cell_type": "markdown",
   "id": "a9fa8baf",
   "metadata": {},
   "source": [
    "**33-write a Python Program to print all Possible Combinations from the three Digits (Input: [1, 2, 3]\n",
    "Output:\n",
    "1 2 3 ##\n",
    "1 3 2 ##\n",
    "2 1 3 ##\n",
    "2 3 1 ##\n",
    "3 1 2 ##\n",
    "3 2 1)"
   ]
  },
  {
   "cell_type": "code",
   "execution_count": 122,
   "id": "8c520a76",
   "metadata": {},
   "outputs": [
    {
     "name": "stdout",
     "output_type": "stream",
     "text": [
      "1 2 3\n",
      "1 3 2\n",
      "2 1 3\n",
      "2 3 1\n",
      "3 1 2\n",
      "3 2 1\n"
     ]
    }
   ],
   "source": [
    "def comb(L):\n",
    "\tfor i in range(3):\n",
    "\t\tfor j in range(3):\n",
    "\t\t\tfor k in range(3):\n",
    "\t\t\t\tif (i!=j and j!=k and i!=k):\n",
    "\t\t\t\t\tprint(L[i], L[j], L[k])\n",
    "\n",
    "comb([1, 2, 3])       "
   ]
  },
  {
   "cell_type": "markdown",
   "id": "5288bb89",
   "metadata": {},
   "source": [
    "**34-write a Python program to find all the Combinations in the list with the given condition (Input: test_list = [1,2,3] \n",
    "Output: \n",
    " [1], [1, 2], [1, 2, 3], [1, 3]\n",
    " [2], [2, 3], [3])"
   ]
  },
  {
   "cell_type": "code",
   "execution_count": 123,
   "id": "59b89646",
   "metadata": {},
   "outputs": [
    {
     "name": "stdout",
     "output_type": "stream",
     "text": [
      "[1]\n",
      "[1, 2]\n",
      "[1, 2, 3]\n",
      "[1, 3]\n",
      "[2]\n",
      "[2, 3]\n",
      "[3]\n"
     ]
    }
   ],
   "source": [
    "l=[1,2,3]\n",
    "for i in range(0,len(l)):\n",
    "    print([l[i]])\n",
    "    for k in range(i+1,len(l)):\n",
    "         print([l[i],l[k]])\n",
    "         for j in range(k+1,len(l)):\n",
    "              print([l[i],l[k],l[j]])\n",
    "         \n"
   ]
  },
  {
   "cell_type": "markdown",
   "id": "39973705",
   "metadata": {},
   "source": [
    "**35-write a Python program to get all unique combinations of two Lists (List_1 = [\"a\",\"b\"]\n",
    "List_2 = [1,2]\n",
    "Unique_combination = [[('a',1),('b',2)],[('a',2),('b',1)]] )"
   ]
  },
  {
   "cell_type": "code",
   "execution_count": 124,
   "id": "8c4ba22b",
   "metadata": {},
   "outputs": [
    {
     "name": "stdout",
     "output_type": "stream",
     "text": [
      "[[('a', 1), ('b', 2)], [('a', 2), ('b', 1)]]\n"
     ]
    }
   ],
   "source": [
    "l1=['a','b']\n",
    "l2=[1,2]\n",
    "l3=[]\n",
    "l4=[]\n",
    "for i in range(len(l1)):\n",
    "    l3.append((l1[i],l2[i]))\n",
    "    l4.append((l1[i],l2[1-i]))\n",
    "l5=[l3,l4] \n",
    "print(l5)  "
   ]
  },
  {
   "cell_type": "markdown",
   "id": "25199af5",
   "metadata": {},
   "source": [
    "**36-Remove all the occurrences of an element from a list in Python (Input : 1 1 2 3 4 5 1 2 1 \n",
    "\n",
    "**Output : 2 3 4 5 2)"
   ]
  },
  {
   "cell_type": "code",
   "execution_count": 126,
   "id": "6dc4c2ba",
   "metadata": {},
   "outputs": [
    {
     "name": "stdout",
     "output_type": "stream",
     "text": [
      "[1, 3, 1, 4, 5, 5]\n"
     ]
    }
   ],
   "source": [
    "removed_element=int(input()) # 2\n",
    "li=[1,2,3,1,4,5,2,2,5]\n",
    "x=li.count(removed_element)\n",
    "while(x!=0):\n",
    "  li.remove(removed_element)\n",
    "  x-=1\n",
    "print(li)    "
   ]
  },
  {
   "cell_type": "markdown",
   "id": "bf1a3c93",
   "metadata": {},
   "source": [
    "**37-write a python program to Replace index elements with elements in Other List (The original list 1 is : [‘Gfg’, ‘is’, ‘best’] The original list 2 is : [0, 1, 2, 1, 0, 0, 0, 2, 1, 1, 2, 0] The lists after index elements replacements is : [‘Gfg’, ‘is’, ‘best’, ‘is’, ‘Gfg’, ‘Gfg’, ‘Gfg’, ‘best’, ‘is’, ‘is’, ‘best’, ‘Gfg’])"
   ]
  },
  {
   "cell_type": "code",
   "execution_count": 26,
   "id": "fdd66a71",
   "metadata": {},
   "outputs": [
    {
     "data": {
      "text/plain": [
       "['Gfg',\n",
       " 'is',\n",
       " 'best',\n",
       " 'is',\n",
       " 'Gfg',\n",
       " 'Gfg',\n",
       " 'Gfg',\n",
       " 'best',\n",
       " 'is',\n",
       " 'is',\n",
       " 'best',\n",
       " 'Gfg']"
      ]
     },
     "execution_count": 26,
     "metadata": {},
     "output_type": "execute_result"
    }
   ],
   "source": [
    "l=['Gfg','is','best']\n",
    "l1=[0,1,2,1,0,0,0,2,1,1,2,0]\n",
    "result=[]\n",
    "for i in l1:\n",
    "   result.append(l[i])\n",
    "result   "
   ]
  },
  {
   "cell_type": "markdown",
   "id": "af0f56e8",
   "metadata": {},
   "source": [
    "**38- write python program to Retain records with N occurrences of K(Input : test_list = [(4, 5, 5, 4), (5, 4, 3)], K = 5, N = 2 \n",
    "Output : [(4, 5, 5, 4)]\n",
    "Input : test_list = [(4, 5, 5, 4), (5, 4, 3)], K = 5, N = 3 \n",
    "Output : [] )"
   ]
  },
  {
   "cell_type": "code",
   "execution_count": 127,
   "id": "67b06671",
   "metadata": {},
   "outputs": [
    {
     "data": {
      "text/plain": [
       "[(4, 5, 5, 4)]"
      ]
     },
     "execution_count": 127,
     "metadata": {},
     "output_type": "execute_result"
    }
   ],
   "source": [
    "test=[(4,5,5,4),(5,4,3)]\n",
    "k = 5\n",
    "N = 2\n",
    "res = [ele for ele in test if ele.count(k) == N]\n",
    "res"
   ]
  },
  {
   "cell_type": "markdown",
   "id": "de76f183",
   "metadata": {},
   "source": [
    "**39-write a Python Program to Sort the list according to the column using lambda\n",
    "array = [[1, 3, 3], [2, 1, 2], [3, 2, 1]]\n",
    "Output :\n",
    "Sorted array specific to column 0, [[1, 3, 3], [2, 1, 2], [3, 2, 1]]\n",
    "Sorted array specific to column 1, [[2, 1, 2], [3, 2, 1], [1, 3, 3]]\n",
    "Sorted array specific to column 2, [[3, 2, 1], [2, 1, 2], [1, 3, 3]]"
   ]
  },
  {
   "cell_type": "code",
   "execution_count": 130,
   "id": "dc883308",
   "metadata": {},
   "outputs": [
    {
     "name": "stdout",
     "output_type": "stream",
     "text": [
      "[[1, 3, 3], [2, 1, 2], [3, 2, 1]]\n",
      "[[2, 1, 2], [3, 2, 1], [1, 3, 3]]\n",
      "[[3, 2, 1], [2, 1, 2], [1, 3, 3]]\n"
     ]
    }
   ],
   "source": [
    "arr=[[1,3,3],[2,1,2],[3,2,1]]\n",
    "for i in range(len(arr)):\n",
    "    col_sorted= sorted(arr,key= lambda a:a[i])\n",
    "    print(col_sorted)"
   ]
  },
  {
   "cell_type": "markdown",
   "id": "d2e7b31f",
   "metadata": {},
   "source": [
    "**40- write a program to Sort Python Dictionaries by Key or Value\n",
    "Input:\n",
    "{'ravi': 10, 'rajnish': 9, 'sanjeev': 15, 'yash': 2, 'suraj': 32}\n",
    "\n",
    "Output: \n",
    "{'rajnish': 9, 'ravi': 10, 'sanjeev': 15, 'suraj': 32, 'yash': 2}"
   ]
  },
  {
   "cell_type": "markdown",
   "id": "a891968f",
   "metadata": {},
   "source": [
    "##### sorted by keys"
   ]
  },
  {
   "cell_type": "code",
   "execution_count": 2,
   "id": "a96db4a0",
   "metadata": {},
   "outputs": [
    {
     "data": {
      "text/plain": [
       "{'rajnish': 9, 'ravi': 10, 'sanjeev': 15, 'suraj': 32, 'yash': 2}"
      ]
     },
     "execution_count": 2,
     "metadata": {},
     "output_type": "execute_result"
    }
   ],
   "source": [
    "dic={'ravi':10,'rajnish':9,'sanjeev':15,'yash':2,'suraj':32}\n",
    "keys=list(dic.keys())\n",
    "keys.sort()\n",
    "sorted_keys={i: dic[i] for i in keys}\n",
    "sorted_keys"
   ]
  },
  {
   "cell_type": "markdown",
   "id": "8024be02",
   "metadata": {},
   "source": [
    "##### sorted by values"
   ]
  },
  {
   "cell_type": "code",
   "execution_count": 22,
   "id": "7f4d6369",
   "metadata": {},
   "outputs": [
    {
     "data": {
      "text/plain": [
       "{'ravi': 2, 'rajnish': 9, 'sanjeev': 10, 'yash': 15, 'suraj': 32}"
      ]
     },
     "execution_count": 22,
     "metadata": {},
     "output_type": "execute_result"
    }
   ],
   "source": [
    "dic={'ravi':10,'rajnish':9,'sanjeev':15,'yash':2,'suraj':32}\n",
    "values=list(dic.values())\n",
    "k=list(dic.keys())\n",
    "values.sort()\n",
    "sorted_values={k[i]: values[i] for i in range(len(values))}\n",
    "sorted_values"
   ]
  },
  {
   "cell_type": "markdown",
   "id": "ec63c23a",
   "metadata": {},
   "source": [
    "**41-write python program to Remove keys with Values Greater than K ( Including mixed values )\n",
    "nput : test_dict = {‘Gfg’ : 3, ‘is’ : 7, ‘best’ : 10, ‘for’ : 6, ‘geeks’ : ‘CS’},\n",
    "K = 7 \n",
    "Output : {‘Gfg’ : 3, ‘for’ : 6, ‘geeks’ : ‘CS’}"
   ]
  },
  {
   "cell_type": "code",
   "execution_count": 149,
   "id": "e39c3a40",
   "metadata": {},
   "outputs": [
    {
     "data": {
      "text/plain": [
       "{'Gfg': 3, 'for': 6, 'geeks': 'CS'}"
      ]
     },
     "execution_count": 149,
     "metadata": {},
     "output_type": "execute_result"
    }
   ],
   "source": [
    "k=int(input())\n",
    "dic={'Gfg':3,'is':7,'best':10,'for':6,'geeks':'CS'}\n",
    "res={}\n",
    "for key in dic:\n",
    "    if not (isinstance(dic[key],int) and dic[key]>=k):  # isinstance() checked whether the value\n",
    "        res[key]=dic[key]                               # is integer or not\n",
    "res        "
   ]
  },
  {
   "cell_type": "markdown",
   "id": "f143f0fe",
   "metadata": {},
   "source": [
    "**42-Write a Python program to concatenate the following dictionaries to create a new one\n",
    "\n",
    "Sample Dictionary :\n",
    "dic1={1:10, 2:20}\n",
    "dic2={3:30, 4:40}\n",
    "dic3={5:50,6:60}\n",
    "Expected Result : {1: 10, 2: 20, 3: 30, 4: 40, 5: 50, 6: 60}"
   ]
  },
  {
   "cell_type": "code",
   "execution_count": 37,
   "id": "74ffdfea",
   "metadata": {},
   "outputs": [
    {
     "data": {
      "text/plain": [
       "{1: 10, 2: 20, 3: 30, 4: 40, 5: 50, 6: 60}"
      ]
     },
     "execution_count": 37,
     "metadata": {},
     "output_type": "execute_result"
    }
   ],
   "source": [
    "dic1={1:10,2:20}\n",
    "dic2={3:30,4:40}\n",
    "dic3={5:50,6:60}\n",
    "dic4={}\n",
    "for d in (dic1,dic2,dic3):\n",
    "    dic4.update(d)\n",
    "dic4    "
   ]
  },
  {
   "cell_type": "markdown",
   "id": "fb04c93c",
   "metadata": {},
   "source": [
    "**43-Write a Python program to iterate over dictionaries using for loops"
   ]
  },
  {
   "cell_type": "code",
   "execution_count": 2,
   "id": "6aebc470",
   "metadata": {},
   "outputs": [
    {
     "name": "stdout",
     "output_type": "stream",
     "text": [
      "ravi 10\n",
      "rajnish 9\n",
      "sanjeev 15\n",
      "yash 2\n",
      "suraj 32\n"
     ]
    }
   ],
   "source": [
    "dic={'ravi':10,'rajnish':9,'sanjeev':15,'yash':2,'suraj':32}\n",
    "for key in dic:\n",
    "    print(key ,dic[key])"
   ]
  },
  {
   "cell_type": "code",
   "execution_count": 3,
   "metadata": {},
   "outputs": [
    {
     "name": "stdout",
     "output_type": "stream",
     "text": [
      "ravi 10\n",
      "rajnish 9\n",
      "sanjeev 15\n",
      "yash 2\n",
      "suraj 32\n"
     ]
    }
   ],
   "source": [
    "for key ,value in dic.items():\n",
    "    print(key,value)"
   ]
  },
  {
   "cell_type": "markdown",
   "id": "5f491a9d",
   "metadata": {},
   "source": [
    "**44- Write a Python script to merge two Python dictionaries"
   ]
  },
  {
   "cell_type": "code",
   "execution_count": 12,
   "id": "b8a14028",
   "metadata": {},
   "outputs": [
    {
     "name": "stdout",
     "output_type": "stream",
     "text": [
      "{'waad': 1, 'wessal': 10, 'salma': 100, 'ali': 2, 'malik': 20, 'khaled': 200}\n"
     ]
    }
   ],
   "source": [
    "dic1={'waad':1,'wessal':10,'salma':100}\n",
    "dic2={'ali':2,'malik':20,'khaled':200}\n",
    "def merge(*dicts):\n",
    "    result=dict()\n",
    "    for d in dicts:\n",
    "        result.update(d)\n",
    "    return result\n",
    "print(merge(dic1,dic2))    "
   ]
  },
  {
   "cell_type": "markdown",
   "id": "216fc72d",
   "metadata": {},
   "source": [
    "**45-Write a Python program to get the maximum and minimum values of a dictionary values"
   ]
  },
  {
   "cell_type": "code",
   "execution_count": 1,
   "id": "d6883f5f",
   "metadata": {},
   "outputs": [
    {
     "name": "stdout",
     "output_type": "stream",
     "text": [
      "minimum value = 2\n",
      "maximum value = 32\n"
     ]
    }
   ],
   "source": [
    "dic={'ravi':10,'rajnish':9,'sanjeev':15,'yash':2,'suraj':32}\n",
    "l=list(dic.values())\n",
    "l.sort()\n",
    "min=l[0]\n",
    "max=l[len(l)-1]\n",
    "print(\"minimum value =\",min)\n",
    "print(\"maximum value =\",max)"
   ]
  },
  {
   "cell_type": "markdown",
   "id": "b6a53011",
   "metadata": {},
   "source": [
    "**46- Write a Python program to drop empty items from a given dictionary.\n",
    "Original Dictionary:\n",
    "{'c1': 'Red', 'c2': 'Green', 'c3': None}\n",
    "New Dictionary after dropping empty items:\n",
    "{'c1': 'Red', 'c2': 'Green'}"
   ]
  },
  {
   "cell_type": "code",
   "execution_count": 28,
   "id": "b5c6fecf",
   "metadata": {},
   "outputs": [
    {
     "data": {
      "text/plain": [
       "{'c1': 'Red', 'c2': 'Green'}"
      ]
     },
     "execution_count": 28,
     "metadata": {},
     "output_type": "execute_result"
    }
   ],
   "source": [
    "dc={'c1': 'Red', 'c2': 'Green', 'c3': None}\n",
    "ans={}\n",
    "for key,value in dc.items():\n",
    "    if value!=None:\n",
    "        ans[key]=value\n",
    "\n",
    "ans"
   ]
  },
  {
   "cell_type": "markdown",
   "id": "46d718c7",
   "metadata": {},
   "source": [
    "**47-Write a Python program to create a tuple of numbers and print one item"
   ]
  },
  {
   "cell_type": "code",
   "execution_count": 32,
   "id": "13216ff5",
   "metadata": {},
   "outputs": [
    {
     "name": "stdout",
     "output_type": "stream",
     "text": [
      "2\n",
      "(5, 10, 15, 20, 25)\n",
      "(5,)\n"
     ]
    }
   ],
   "source": [
    "t1=(1,2,4,6,77,3,55,11,90)\n",
    "print(t1[1])\n",
    "tuplenum = 5, 10, 15, 20, 25\n",
    "print(tuplenum)\n",
    "tuplenum = 5,\n",
    "print(tuplenum)\n"
   ]
  },
  {
   "cell_type": "markdown",
   "id": "2be5b56b",
   "metadata": {},
   "source": [
    "**48-Write a Python program to unpack a tuple into several variables"
   ]
  },
  {
   "cell_type": "code",
   "execution_count": 33,
   "id": "595f44be",
   "metadata": {},
   "outputs": [
    {
     "name": "stdout",
     "output_type": "stream",
     "text": [
      "1 2 3 4\n"
     ]
    }
   ],
   "source": [
    "t=(1,2,3,4)\n",
    "n1,n2,n3,n4=t\n",
    "print(n1,n2,n3,n4)"
   ]
  },
  {
   "cell_type": "markdown",
   "id": "392388a7",
   "metadata": {},
   "source": [
    "**49-Write a Python program to add an item to a tuple"
   ]
  },
  {
   "cell_type": "code",
   "execution_count": 156,
   "id": "54cc092e",
   "metadata": {},
   "outputs": [
    {
     "data": {
      "text/plain": [
       "(1, 5, 8, 4)"
      ]
     },
     "execution_count": 156,
     "metadata": {},
     "output_type": "execute_result"
    }
   ],
   "source": [
    "a=4,\n",
    "t2=(1,5,8)\n",
    "t2=t2 + a\n",
    "t2"
   ]
  },
  {
   "cell_type": "code",
   "execution_count": 39,
   "id": "e6efc91a",
   "metadata": {},
   "outputs": [
    {
     "name": "stdout",
     "output_type": "stream",
     "text": [
      "(1, 4, 7, 10)\n"
     ]
    }
   ],
   "source": [
    "t3=(1,4,7)\n",
    "x=list(t3)\n",
    "x.append(10)\n",
    "res=tuple(x)\n",
    "print(res)"
   ]
  },
  {
   "cell_type": "markdown",
   "id": "3e8fd124",
   "metadata": {},
   "source": [
    "**50-Write a Python program to convert a tuple to a string"
   ]
  },
  {
   "cell_type": "code",
   "execution_count": 46,
   "id": "92a71ddc",
   "metadata": {},
   "outputs": [
    {
     "data": {
      "text/plain": [
       "'hello Aya! How are you?'"
      ]
     },
     "execution_count": 46,
     "metadata": {},
     "output_type": "execute_result"
    }
   ],
   "source": [
    "t= 'hello',' Aya!', ' How are you?'\n",
    "s=''\n",
    "for i in t:\n",
    "    s+=i\n",
    "s"
   ]
  },
  {
   "cell_type": "markdown",
   "id": "f4f64ef4",
   "metadata": {},
   "source": [
    "**51-Write a Python program to convert a list to a tuple"
   ]
  },
  {
   "cell_type": "code",
   "execution_count": 47,
   "id": "210d56d3",
   "metadata": {},
   "outputs": [
    {
     "name": "stdout",
     "output_type": "stream",
     "text": [
      "(3, 7, 99)\n"
     ]
    }
   ],
   "source": [
    "l=[3,7,99]\n",
    "t=tuple(l)\n",
    "print(t)"
   ]
  },
  {
   "cell_type": "markdown",
   "id": "b1e00ef7",
   "metadata": {},
   "source": [
    "**52-Write a Python program to reverse a tuple"
   ]
  },
  {
   "cell_type": "code",
   "execution_count": 61,
   "id": "f45bfdc7",
   "metadata": {},
   "outputs": [
    {
     "name": "stdout",
     "output_type": "stream",
     "text": [
      "(3, 2, 1, 'd', 'c', 'b', 'a')\n"
     ]
    }
   ],
   "source": [
    "t=('a','b','c','d',1,2,3)\n",
    "print(tuple(reversed(t)))"
   ]
  },
  {
   "cell_type": "markdown",
   "id": "3cd347d1",
   "metadata": {},
   "source": [
    "**53-Write a Python program to replace the last value of tuples in a list.\n",
    "Sample list: [(10, 20, 40), (40, 50, 60), (70, 80, 90)]\n",
    "Expected Output: [(10, 20, 100), (40, 50, 100), (70, 80, 100)]"
   ]
  },
  {
   "cell_type": "code",
   "execution_count": 17,
   "id": "3c4a2a4c",
   "metadata": {},
   "outputs": [
    {
     "name": "stdout",
     "output_type": "stream",
     "text": [
      "[(10, 20, 100), (40, 50, 100), (70, 80, 100)]\n"
     ]
    }
   ],
   "source": [
    "j= [(10, 20, 40), (40, 50, 60), (70, 80, 90)]\n",
    "t=[]\n",
    "for i in j:\n",
    "   t.append(i[:-1] + (100,))\n",
    "print(t)    "
   ]
  },
  {
   "cell_type": "markdown",
   "id": "76bb7b39",
   "metadata": {},
   "source": [
    "**54-Write a Python program to convert a given string list to a tuple\n",
    "Original string: python 3.0\n",
    "<class 'str'>\n",
    "Convert the said string to a tuple:\n",
    "('p', 'y', 't', 'h', 'o', 'n', '3', '.', '0')"
   ]
  },
  {
   "cell_type": "code",
   "execution_count": 23,
   "id": "51951937",
   "metadata": {},
   "outputs": [
    {
     "name": "stdout",
     "output_type": "stream",
     "text": [
      "('p', 'y', 't', 'h', 'o', 'n', '3', '.', '0')\n"
     ]
    }
   ],
   "source": [
    "s='python 3.0'\n",
    "t=()\n",
    "for i in s:\n",
    "    if i!=' ':\n",
    "      t+=(i,)\n",
    "print(t)  "
   ]
  },
  {
   "cell_type": "markdown",
   "id": "5a1d5d97",
   "metadata": {},
   "source": [
    "**55-Write a Python program to calculate the average value of the numbers in a given tuple of tuples"
   ]
  },
  {
   "cell_type": "code",
   "execution_count": 42,
   "id": "834e7992",
   "metadata": {},
   "outputs": [
    {
     "data": {
      "text/plain": [
       "[20.0, 62.5, 66.0]"
      ]
     },
     "execution_count": 42,
     "metadata": {},
     "output_type": "execute_result"
    }
   ],
   "source": [
    "z=((10,20,30),(100,60,40,50),(99,46,53))\n",
    "res=[]\n",
    "for i in z:\n",
    "    res.append(sum(i)/len(i))\n",
    "res    "
   ]
  },
  {
   "cell_type": "markdown",
   "id": "51edab9c",
   "metadata": {},
   "source": [
    "**56-Write a Python program to add member(s) to a set."
   ]
  },
  {
   "cell_type": "code",
   "execution_count": 44,
   "id": "2b65df79",
   "metadata": {},
   "outputs": [
    {
     "name": "stdout",
     "output_type": "stream",
     "text": [
      "{'c#', 'python', 'c++', 'java'}\n"
     ]
    }
   ],
   "source": [
    "language_set=set()\n",
    "language_set.add('python')\n",
    "language_set.update(['java','c++','c#'])\n",
    "print(language_set)"
   ]
  },
  {
   "cell_type": "markdown",
   "id": "965590cc",
   "metadata": {},
   "source": [
    "**57-Write a Python program to remove an item from a set if it is present in the set."
   ]
  },
  {
   "cell_type": "code",
   "execution_count": 49,
   "id": "866bab28",
   "metadata": {},
   "outputs": [
    {
     "name": "stdout",
     "output_type": "stream",
     "text": [
      "remove 5 from the set\n",
      "{1, 2, 3, 4, 6, 7, 8}\n",
      "remove 1 from the set\n",
      "{2, 3, 4, 6, 7, 8}\n"
     ]
    }
   ],
   "source": [
    "st={1,2,3,4,5,6,7,8}\n",
    "print('remove 5 from the set')\n",
    "st.discard(5)\n",
    "print(st)\n",
    "print('remove 1 from the set')\n",
    "st.discard(1)\n",
    "print(st)"
   ]
  },
  {
   "cell_type": "markdown",
   "id": "2b7cfed1",
   "metadata": {},
   "source": [
    "**58-Write a Python program to create an intersection,union,difference and symmetric difference of sets"
   ]
  },
  {
   "cell_type": "code",
   "execution_count": 52,
   "id": "7f94b7fe",
   "metadata": {},
   "outputs": [
    {
     "name": "stdout",
     "output_type": "stream",
     "text": [
      "Union {1, 2, 3, 4, 5, 6, 8, 9}\n",
      "intersection {4, 6}\n",
      "difference {8, 1, 9}\n",
      "symmetric difference {1, 2, 3, 5, 8, 9}\n"
     ]
    }
   ],
   "source": [
    "a={1,4,6,8,9}\n",
    "b={2,4,6,5,3}\n",
    "print(\"Union\", a|b)\n",
    "print(\"intersection\", a&b)\n",
    "print(\"difference\",a-b)\n",
    "print('symmetric difference',a^b)"
   ]
  },
  {
   "cell_type": "markdown",
   "id": "b94931e2",
   "metadata": {},
   "source": [
    "**59-Write a Python program to find the maximum and minimum values in a set"
   ]
  },
  {
   "cell_type": "code",
   "execution_count": 61,
   "id": "203f9600",
   "metadata": {},
   "outputs": [
    {
     "name": "stdout",
     "output_type": "stream",
     "text": [
      "min value: 1\n",
      "max value 10\n"
     ]
    }
   ],
   "source": [
    "orset={10,6,2,9,1}\n",
    "l= list(orset)\n",
    "l.sort()\n",
    "print(\"min value:\",l[0])\n",
    "print(\"max value\",l[len(l)-1])"
   ]
  },
  {
   "cell_type": "code",
   "execution_count": 62,
   "id": "00176612",
   "metadata": {},
   "outputs": [
    {
     "name": "stdout",
     "output_type": "stream",
     "text": [
      "maximum value: 10\n",
      "minimum value: 1\n"
     ]
    }
   ],
   "source": [
    "print(\"maximum value:\",max(orset))\n",
    "print(\"minimum value:\",min(orset))"
   ]
  },
  {
   "cell_type": "markdown",
   "id": "255fd554",
   "metadata": {},
   "source": [
    "**60- Write a Python program that finds all pairs of elements in a list whose sum is equal to a given value."
   ]
  },
  {
   "cell_type": "code",
   "execution_count": 157,
   "id": "c2d94e1f",
   "metadata": {},
   "outputs": [
    {
     "name": "stdout",
     "output_type": "stream",
     "text": [
      "(1, 4)\n",
      "(3, 2)\n"
     ]
    }
   ],
   "source": [
    "given_list=[(1,4),(3,2),(9,4),(6,10)]\n",
    "given_value=int(input())  # 5\n",
    "for i in given_list:\n",
    "    s=sum(i)\n",
    "    if s== given_value:\n",
    "        print(i)"
   ]
  }
 ],
 "metadata": {
  "kernelspec": {
   "display_name": "Python 3 (ipykernel)",
   "language": "python",
   "name": "python3"
  },
  "language_info": {
   "codemirror_mode": {
    "name": "ipython",
    "version": 3
   },
   "file_extension": ".py",
   "mimetype": "text/x-python",
   "name": "python",
   "nbconvert_exporter": "python",
   "pygments_lexer": "ipython3",
   "version": "3.10.2"
  }
 },
 "nbformat": 4,
 "nbformat_minor": 5
}
